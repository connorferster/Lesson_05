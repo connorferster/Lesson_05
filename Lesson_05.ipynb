{
 "cells": [
  {
   "cell_type": "markdown",
   "metadata": {},
   "source": [
    "# Lesson 5: Tuples, Dictionaries, and Sets"
   ]
  },
  {
   "cell_type": "markdown",
   "metadata": {},
   "source": [
    "# 0. Tuples (`tuple`)\n",
    "\n",
    "A `tuple` is very much like a `list`. \n",
    "\n",
    "* With a `list` you can add, remove, or change items in the list after you have created it.\n",
    "* With a `tuple` you cannot change anything in the tuple after you have created it.\n",
    "\n",
    "To create a tuple, make a with `(` and `)` instead of `[` and `]`\n",
    "\n",
    "```python\n",
    "my_list = [\"a\", \"b\", \"c\", \"d\"]\n",
    "my_tuple = (\"a\", \"b\", \"c\", \"d\")\n",
    "\n",
    "my_list.append(\"e\") # This works\n",
    "my_tuple.append(\"e\") # This causes an error\n",
    "```\n",
    "\n",
    "You can index a tuple just like you can a list:\n",
    "```python\n",
    "my_tuple[1:3] # (\"b\", \"c\")\n",
    "```\n",
    "\n",
    "You can convert a `list` into a `tuple` by using the `tuple(...)` function.\n",
    "```python\n",
    "tuple(my_list)\n",
    "```\n",
    "\n",
    "**Why use a `tuple` when you can use a `list`???**\n",
    "\n",
    "1. A `list` is not _hashable_ because it is _mutable_; a `tuple` IS _hashable_ because it is _immutable_.\n",
    "2. Conceptually, some data is better represented as a tuple, e.g. `(x, y, z)` coordinates of a point in 3D space."
   ]
  },
  {
   "cell_type": "code",
   "execution_count": null,
   "metadata": {},
   "outputs": [],
   "source": []
  },
  {
   "cell_type": "markdown",
   "metadata": {},
   "source": [
    "# 1. Dictionaries (`dict`)"
   ]
  },
  {
   "cell_type": "markdown",
   "metadata": {},
   "source": [
    "In our lessons so far, one of the things we have been doing is creating *variables*. Like this:\n",
    "\n",
    "```python\n",
    "x = 23.4\n",
    "my_name = \"Connor\"\n",
    "```"
   ]
  },
  {
   "cell_type": "markdown",
   "metadata": {},
   "source": [
    "When we define a variable, we define two components of it: the name of the variable (`x` and `my_name` in this example) and its *value* (`23.4` and `\"Connor\"` in this example).\n",
    "\n",
    "Now, imagine that we wanted to store a kind of \"list\" or \"collection\" of variables. How would we do this? \n",
    "\n",
    "It would be nice to have a kind of list that stored both the variable's name, as a kind of look-up *key*, along with it's corresponding *value*.\n",
    "\n",
    "This is exactly what a dictionary does in Python. The dictionary data type is called `dict`.\n",
    "\n",
    "A dictionary is a collection of \"key/value\" pairs. The each value is associated to its particular key.\n",
    "\n",
    "e.g.\n",
    "\n",
    "```python\n",
    "my_first_car = {\"Make\": \"Honda\", \"Model\": \"Civic\", \"Year\": 1989, \"Colour\": \"Red\", \"Style\": \"Two door Hatchback\"}\n",
    "```\n",
    "\n",
    "But it can be easier to read if we put in line breaks:\n",
    "\n",
    "```python\n",
    "my_first_car = {\n",
    "    \"Make\": \"Honda\", # Key is \"Make\", Value is \"Honda\"\n",
    "    \"Model\": \"Civic\", \n",
    "    \"Year\": 1989, \n",
    "    \"Colour\": \"Red\", \n",
    "    \"Style\": \"Two door Hatchback\"\n",
    "}\n",
    "```\n",
    "\n",
    "Like `list` we can use indexing to access items in the dictionary. However, instead of using the numerical position as the index, we use the key.\n",
    "\n",
    "```python\n",
    "my_first_car[\"Colour\"] # Red\n",
    "my_first_car[\"Model\"] # Civic\n",
    "```"
   ]
  },
  {
   "cell_type": "code",
   "execution_count": null,
   "metadata": {},
   "outputs": [],
   "source": []
  },
  {
   "cell_type": "markdown",
   "metadata": {},
   "source": [
    "# How to use `dict`\n",
    "\n",
    "\n",
    "\n",
    "Like lists and tuples, we can create a dictionary by using a special kind of bracket `{...}`\n",
    "\n",
    "```python\n",
    "my_first_dictionary = {\n",
    "    \"name\": \"Connor\", \n",
    "    \"age\": 38, \n",
    "    \"address\": \"234 123 Avenue\"\n",
    "}\n",
    "```"
   ]
  },
  {
   "cell_type": "markdown",
   "metadata": {},
   "source": [
    "## Some useful `dict` methods\n",
    "\n",
    "\n",
    "Like lists and tuples, we can create a dictionary by using a special kind of bracket `{...}`\n",
    "\n",
    "* `.update({key: value})` - Add or alter your dictionary with another dictionary\n",
    "* `.get(key, optional_default_value)` - Get the value for a key in the dictionary. If the key does not exist, return an optional default value.\n",
    "* `.pop(key)` - Remove the element with the specified key\n",
    "* `.clear()` - Remove all elements from the dictionary"
   ]
  },
  {
   "cell_type": "markdown",
   "metadata": {},
   "source": [
    "Like a `list`, we can add or change items in the dictionary. To change items with in a dictionary, use the `.update(...)` method. \n",
    "\n",
    "```python\n",
    "my_first_dictionary.update({\"employer\": \"RJC Engineers\"}) # Note: updates in place\n",
    "```"
   ]
  },
  {
   "cell_type": "code",
   "execution_count": null,
   "metadata": {},
   "outputs": [],
   "source": []
  },
  {
   "cell_type": "markdown",
   "metadata": {},
   "source": [
    "Dictionaries can contain other dictionaries (as values, not keys). Nested dictionaries can be used to represent *heirarchical* or *tree* types of data.\n",
    "\n",
    "```python\n",
    "building = {\n",
    "    \"Slabs\": {\"Level 1\": \"450C35MPA\",\n",
    "              \"Level 2\": \"250C35MPA\",\n",
    "              \"Level 3\": \"250C35MPA\"},\n",
    "    \"Columns\": {\"C1\": \"500x500C35MPA\",\n",
    "                \"C2\": \"300x600C35MPA\",\n",
    "                \"C3\": \"300x400C35MPA\"},\n",
    "    \"Footings\": {\"F1\": \"2000x2000C25MPA\",\n",
    "                 \"F2\": \"3000x2500C25MPA\",\n",
    "                 \"SF1\": \"300X1500C25MPA\"}\n",
    "}\n",
    "```"
   ]
  },
  {
   "cell_type": "code",
   "execution_count": null,
   "metadata": {},
   "outputs": [],
   "source": []
  },
  {
   "cell_type": "markdown",
   "metadata": {},
   "source": [
    "### Important note about immutable keys\n",
    "\n",
    "**Anything** can be a dictionary *value* but only **immutable** data can be used as dictionary *keys*.\n",
    "\n",
    "* The following data types can be used as dictionary *keys*: `bool`, `int`, `float`, `str`, `tuple` (and any other data types that are immutable or \"hashable\")\n",
    "\n",
    "* The following data types CANNOT be used as dictionary *keys*: `list`, `dict`\n",
    "\n",
    "*Additionally*, all dictionary keys must be unique. You cannot have two of the same key in the same dictionary. \n",
    "\n",
    "A dictionary looks up values by keys. If two keys are the same, then what value should the dictionary return? \n",
    "\n",
    "To avoid this problem, Python prevents you from using the same key twice. How? If you make two entries with the same key, the second one you enter will over-write the first. This is also how updating dictionaries works.\n",
    "\n",
    "```python\n",
    "my_first_car.update({\"Style\": \"Four door sedan\"})\n",
    "```"
   ]
  },
  {
   "cell_type": "code",
   "execution_count": null,
   "metadata": {},
   "outputs": [],
   "source": []
  },
  {
   "cell_type": "markdown",
   "metadata": {},
   "source": [
    "### Looping (aka \"iterating\") over dictionaries\n",
    "\n",
    "There are three ways to loop over dictionaries:\n",
    "\n",
    "1. Loop over just the *keys* `for key in d.keys():`\n",
    "2. Loop over just the *values* `for value in d.values():`\n",
    "3. Loop over both at the same time `for k, v in d.items():`"
   ]
  },
  {
   "cell_type": "markdown",
   "metadata": {},
   "source": [
    "**Example of looping over _keys_**\n",
    "\n",
    "```python\n",
    "super_heroes = {\n",
    "    \"Hulk\": \"Bruce Banner\", \n",
    "    \"Wonder Woman\": \"Diana Prince\", \n",
    "    \"Superman\": \"Clark Kent\", \n",
    "    \"Spiderman\": \"Peter Parker\", \n",
    "    \"Phoenix\": \"Jean Gray\"\n",
    "}\n",
    "\n",
    "for super_name in super_heroes.keys():\n",
    "    print(super_name)\n",
    "```"
   ]
  },
  {
   "cell_type": "code",
   "execution_count": null,
   "metadata": {},
   "outputs": [],
   "source": []
  },
  {
   "cell_type": "markdown",
   "metadata": {},
   "source": [
    "**Example of looping over *values***\n",
    "\n",
    "```python\n",
    "for secret_id in super_heroes.values():\n",
    "    print(secret_id)\n",
    "```"
   ]
  },
  {
   "cell_type": "code",
   "execution_count": null,
   "metadata": {},
   "outputs": [],
   "source": []
  },
  {
   "cell_type": "markdown",
   "metadata": {},
   "source": [
    "**Example of looping over both *keys* and *values***\n",
    "\n",
    "```python\n",
    "for super_name, secret_id in super_heroes.items():\n",
    "    print(super_name.lower())\n",
    "    print(secret_id.upper())\n",
    "\n",
    "```"
   ]
  },
  {
   "cell_type": "code",
   "execution_count": null,
   "metadata": {},
   "outputs": [],
   "source": []
  },
  {
   "cell_type": "markdown",
   "metadata": {},
   "source": [
    "## Two function templates for `dict`\n",
    "\n",
    "For looping through the dictionary:\n",
    "\n",
    "```python\n",
    "def func_name(d: dict, ...) -> ...:\n",
    "    \"\"\"\n",
    "    Doc string\n",
    "    \"\"\"\n",
    "    acc = {}\n",
    "    for key, value in d.items(): # for key in d.keys(); for value in d.values()\n",
    "        ...\n",
    "        acc.update({new_key: new_value})\n",
    "    return acc\n",
    "```\n",
    "\n",
    "For accessing items in the dictionary:\n",
    "\n",
    "```python\n",
    "def func_name(d: dict, ...) -> ...:\n",
    "    \"\"\"\n",
    "    Doc string\n",
    "    \"\"\"\n",
    "    val = d.get(...) # val = d[...]\n",
    "    ...\n",
    "    return val\n",
    "```\n"
   ]
  },
  {
   "cell_type": "markdown",
   "metadata": {},
   "source": [
    "## Python _relies_ on dictionaries. You could say Python is _built_ on dictionaries.\n",
    "\n",
    "All variable names in Python are stored in dictionaries, even ones that you do not put in dictionaries.\n",
    "\n",
    "This is how the _global_ and _local_ namespaces are implemented. There is a _global_ dictionary for your program that Python uses to look up your variables. In a function, there is a _local_ dictionary that manages the variables in your function.\n"
   ]
  },
  {
   "cell_type": "markdown",
   "metadata": {},
   "source": [
    "# 2. Sets (`set`)\n",
    "\n",
    "Sets are another kind collection but a special kind of collection where every entry is unique.\n",
    "\n",
    "Sets are created, like dictionaries, by using braces `{...}`. Here is an example:\n",
    "\n",
    "```python\n",
    "my_first_set = {\"cat\", 3.13, \"hat\", \"cat\"}\n",
    "my_second_set = set([\"Col A\", \"Col B\", \"Col C\", \"Col C\"]) # Use the set() function to convert a collection into a set\n",
    "```"
   ]
  },
  {
   "cell_type": "code",
   "execution_count": null,
   "metadata": {},
   "outputs": [],
   "source": []
  },
  {
   "cell_type": "markdown",
   "metadata": {},
   "source": [
    "**Notice two things:**\n",
    "1. There are no colons anywhere (colons are for creating a dictionary instead of a set)\n",
    "2. Even though I put `\"cat\"` into the set twice, the set only shows one of them. A set is a collection of only unique items.\n",
    "\n",
    "A very useful thing to do with `set` is to instantly find the unique items in a list:\n",
    "\n",
    "```python\n",
    "names_of_customers_in_one_day = [\"Marika\", \"Stanley\", \"Kristof\", \"Julia\", \"Marika\", \"Rumsfeld\", \"Arnie\", \"Claire\", \"Elizabeth\", \"Stanley\"]\n",
    "unique_customer_names = set(names_of_customers_in_one_day) # Using the set(...) function to convert our list into a set\n",
    "unique_customer_names\n",
    "```"
   ]
  },
  {
   "cell_type": "code",
   "execution_count": null,
   "metadata": {},
   "outputs": [],
   "source": []
  },
  {
   "cell_type": "markdown",
   "metadata": {},
   "source": [
    "## Set Operations\n",
    "Conceptually, a `set` in Python is analagous, and can be utilized, like a \"set\" in mathematics. You can compare sets with set operations such as \"Union\", \"Difference\", \"Intersection\", and \"Symmetric Difference\"."
   ]
  },
  {
   "cell_type": "code",
   "execution_count": 8,
   "metadata": {},
   "outputs": [],
   "source": [
    "colours_i_like = {\"red\", \"yellow\", \"light blue\", \"pink\", \"green\"}\n",
    "colours_my_friend_likes = {\"dark blue\", \"green\", \"red\", \"black\"}"
   ]
  },
  {
   "attachments": {
    "09448ef1-f3c5-4c3a-97f9-1d3a27514c12.png": {
     "image/png": "[encoded data removed]"
    }
   },
   "cell_type": "markdown",
   "metadata": {},
   "source": [
    "## Union\n",
    "\n",
    "![image.png](attachment:09448ef1-f3c5-4c3a-97f9-1d3a27514c12.png)\n",
    "\n",
    "```python\n",
    "colours_i_like.union(colours_my_friend_likes)\n",
    "\n",
    "colours_i_like | colours_my_friend_likes # The \"Pipe\" operator, aka \"logical OR\"\n",
    "```"
   ]
  },
  {
   "cell_type": "code",
   "execution_count": 9,
   "metadata": {},
   "outputs": [
    {
     "data": {
      "text/plain": [
       "{'black', 'dark blue', 'green', 'light blue', 'pink', 'red', 'yellow'}"
      ]
     },
     "execution_count": 9,
     "metadata": {},
     "output_type": "execute_result"
    }
   ],
   "source": [
    "colours_i_like | colours_my_friend_likes"
   ]
  },
  {
   "attachments": {
    "7fef9f41-54c1-4fc3-ba2d-ee681f3d84e7.png": {
     "image/png": "[encoded data removed]"
    }
   },
   "cell_type": "markdown",
   "metadata": {},
   "source": [
    "## Intersection\n",
    "\n",
    "![image.png](attachment:7fef9f41-54c1-4fc3-ba2d-ee681f3d84e7.png)\n",
    "\n",
    "\n",
    "```python\n",
    "colours_i_like.intersection(colours_my_friend_likes)\n",
    "\n",
    "colours_i_like & colours_my_friend_likes # The \"Ampersand\" operator, aka \"logical AND\"\n",
    "```"
   ]
  },
  {
   "cell_type": "code",
   "execution_count": 10,
   "metadata": {},
   "outputs": [
    {
     "data": {
      "text/plain": [
       "{'green', 'red'}"
      ]
     },
     "execution_count": 10,
     "metadata": {},
     "output_type": "execute_result"
    }
   ],
   "source": [
    "colours_i_like & colours_my_friend_likes"
   ]
  },
  {
   "attachments": {
    "faff873a-45d7-435b-8626-694ea6bf66ff.png": {
     "image/png": "[encoded data removed]"
    }
   },
   "cell_type": "markdown",
   "metadata": {},
   "source": [
    "## Difference\n",
    "\n",
    "![image.png](attachment:faff873a-45d7-435b-8626-694ea6bf66ff.png)\n",
    "\n",
    "```python\n",
    "colours_i_like.difference(colours_my_friend_likes)\n",
    "\n",
    "colours_i_like - colours_my_friend_likes # The \"Subtract\" operator, aka \"logical difference\"\n",
    "```"
   ]
  },
  {
   "cell_type": "code",
   "execution_count": 11,
   "metadata": {},
   "outputs": [
    {
     "data": {
      "text/plain": [
       "{'light blue', 'pink', 'yellow'}"
      ]
     },
     "execution_count": 11,
     "metadata": {},
     "output_type": "execute_result"
    }
   ],
   "source": [
    "colours_i_like - colours_my_friend_likes"
   ]
  },
  {
   "attachments": {
    "1f2b1383-89ba-4368-b603-eb65b54c6ed7.png": {
     "image/png": "[encoded data removed]"
    }
   },
   "cell_type": "markdown",
   "metadata": {},
   "source": [
    "## Symmetric Difference\n",
    "\n",
    "![image.png](attachment:1f2b1383-89ba-4368-b603-eb65b54c6ed7.png)\n",
    "\n",
    "```python\n",
    "colours_i_like.symmetric_difference(colours_my_friend_likes)\n",
    "\n",
    "colours_i_like ^ colours_my_friend_likes # The \"Caret\" operator, aka \"logical XOR\" (exclusive-OR)\n",
    "```"
   ]
  },
  {
   "cell_type": "code",
   "execution_count": 12,
   "metadata": {},
   "outputs": [
    {
     "data": {
      "text/plain": [
       "{'black', 'dark blue', 'light blue', 'pink', 'yellow'}"
      ]
     },
     "execution_count": 12,
     "metadata": {},
     "output_type": "execute_result"
    }
   ],
   "source": [
    "colours_i_like ^ colours_my_friend_likes"
   ]
  },
  {
   "cell_type": "markdown",
   "metadata": {},
   "source": [
    "Because strings are collections too, we can use sets to match letters in words:\n",
    "\n",
    "```python\n",
    "words_of_interest = [\"cat\", \"sky\", \"xylophone\", \"zeta\"]\n",
    "words_of_interest # ['cat', 'sky', 'xylophone', 'zeta']\n",
    "\n",
    "letters_of_interest = set(\"xyz\") \n",
    "```"
   ]
  },
  {
   "cell_type": "code",
   "execution_count": null,
   "metadata": {},
   "outputs": [],
   "source": []
  },
  {
   "cell_type": "markdown",
   "metadata": {},
   "source": [
    "# This week's workbook\n",
    "\n",
    "You will be working primarily with dictionaries and a little bit of sets. \n",
    "\n",
    "In some instances, you will be given a pre-built dictionary to work with in other instances you will either have to create the dictionary manually (from data provided to you) or you will be creating a new dictionary by looping over lists.\n",
    "\n",
    "The idea is to get you familiar with them so you get an idea of how and when they may be used in your code."
   ]
  },
  {
   "cell_type": "code",
   "execution_count": null,
   "metadata": {},
   "outputs": [],
   "source": []
  }
 ],
 "metadata": {
  "kernelspec": {
   "display_name": "Python 3",
   "language": "python",
   "name": "python3"
  },
  "language_info": {
   "codemirror_mode": {
    "name": "ipython",
    "version": 3
   },
   "file_extension": ".py",
   "mimetype": "text/x-python",
   "name": "python",
   "nbconvert_exporter": "python",
   "pygments_lexer": "ipython3",
   "version": "3.7.10"
  },
  "varInspector": {
   "cols": {
    "lenName": 16,
    "lenType": 16,
    "lenVar": 40
   },
   "kernels_config": {
    "python": {
     "delete_cmd_postfix": "",
     "delete_cmd_prefix": "del ",
     "library": "var_list.py",
     "varRefreshCmd": "print(var_dic_list())"
    },
    "r": {
     "delete_cmd_postfix": ") ",
     "delete_cmd_prefix": "rm(",
     "library": "var_list.r",
     "varRefreshCmd": "cat(var_dic_list()) "
    }
   },
   "types_to_exclude": [
    "module",
    "function",
    "builtin_function_or_method",
    "instance",
    "_Feature"
   ],
   "window_display": false
  }
 },
 "nbformat": 4,
 "nbformat_minor": 4
}
