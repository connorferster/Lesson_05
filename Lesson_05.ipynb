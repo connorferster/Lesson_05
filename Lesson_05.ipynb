{
 "cells": [
  {
   "cell_type": "code",
   "execution_count": 15,
   "metadata": {},
   "outputs": [],
   "source": [
    "import ipytest\n",
    "ipytest.autoconfig()"
   ]
  },
  {
   "cell_type": "markdown",
   "metadata": {},
   "source": [
    "# Lesson 5: Writing (and using) functions\n",
    "\n",
    "In all of our lessons and workbooks so far, we have just been writing code and running it directly in a given cell. This is fine and good for trying things out or writing a short script to just do one or two things. \n",
    "\n",
    "But, going beyond just scripts, how do you write a *program*?\n",
    "\n",
    "The main focus of this course is on how to write structured and flexible *programs* that you can use over and over again in your work. By understanding how to structure programs, you will quickly gain confidence in your programming ability.\n",
    "\n",
    "Programs all start with **functions**."
   ]
  },
  {
   "cell_type": "markdown",
   "metadata": {},
   "source": [
    "## What is a function?\n",
    "\n",
    "A function is a small piece of code that describes a _process_ and is assigned a name. \n",
    "\n",
    "Our previous workbook exercise was just code written in Jupyter cells. If you wanted to run that code in multiple places, you would have to copy and paste the cell. \n",
    "\n",
    "A function allows you to write some code once, and use it multiple times by just calling its name, like this:\n",
    "\n",
    "```python\n",
    "def loud_string(s: str) -> str:\n",
    "    \"\"\"Returns the string, 's', as uppercase and with an exclamation point at the end.\"\"\"\n",
    "    loud = f\"{s.upper()}!\"\n",
    "    return loud\n",
    "```\n",
    "\n",
    "Now that the function has been defined it can be used later in the code and in multiple places:\n",
    "\n",
    "```python\n",
    "player_greeting = \"Good morning\"\n",
    "obnoxious_player_greeting = loud_string(player_greeting)\n",
    "```"
   ]
  },
  {
   "cell_type": "code",
   "execution_count": null,
   "metadata": {},
   "outputs": [],
   "source": []
  },
  {
   "cell_type": "markdown",
   "metadata": {},
   "source": [
    "## Components of a function:\n",
    "\n",
    "We are going to break down the parts of this function:\n",
    "```python\n",
    "def loud_string(s: str) -> str:\n",
    "    \"\"\"Returns the string, 's', as uppercase and with an exclamation point at the end.\"\"\"\n",
    "    loud = f\"{s.upper()}!\"\n",
    "    return loud\n",
    "```\n",
    "\n",
    "\n",
    "### 1. The \"signature\":\n",
    "\n",
    "```python\n",
    "def loud_string(s: str) -> str:\n",
    "```\n",
    "The signature *defines* the name of the function, tells us what parameters it takes and what type they are, and then tells us what type the function outputs, or *returns*. A good function signature should be able to tell us most of what we need to know about the function without _having_ to read the docstring.\n",
    "\n",
    "### 2. The \"doc string\":\n",
    "```python\n",
    "\"\"\"Returns 's' in upper case and puts an \"!\" at the end.\"\"\"\n",
    "```\n",
    "The doc string is just a `str` written with three quotes (`\"\"\"`, used for multi-line strings) that tells us what the function does. We can read the doc string of any function in python by typing `help(<function name>)`. e.g. We could type `help(loud_string)` to see the doc string of our function here.\n",
    "\n",
    "### 3. The \"implementation\":\n",
    "```python\n",
    "loud = f\"{s.upper()}!\"\n",
    "```\n",
    "The implementation is what we call the actual lines of code in the function. We call it this because it is the implementation of the *idea* or *purpose* of the function. Often times, there are many ways to implement any given function. The way that it is written is just the _current implementation_.\n",
    "\n",
    "### 4. The `return`\n",
    "```python\n",
    "return loud\n",
    "```\n",
    "`return` is a special keyword in Python that only has meaning inside of a function. If you try using `return` in your code outside of a function, Python will give you `SyntaxError: 'return' outside function`.\n",
    "\n",
    "**The `return` keyword tells the function to do two things:**\n",
    "\n",
    "1. Terminate the function\n",
    "2. If there is a variable or _expression_ beside the return keyword, then that value is given as the _output_ or \"return value\" of the function.\n"
   ]
  },
  {
   "cell_type": "code",
   "execution_count": null,
   "metadata": {},
   "outputs": [],
   "source": []
  },
  {
   "cell_type": "markdown",
   "metadata": {
    "tags": []
   },
   "source": [
    "# How to Validate Functions - Automated Testing\n",
    "\n",
    "How do you know if your code works? That there are no mistakes?\n",
    "\n",
    "This is what testing is for.\n",
    "\n",
    "> The most common way of testing your code is to just run it and see if the output is what you expect it to be.\n",
    "\n",
    "However, you probably want to test multiple input scenarios and check to make sure that each of the outputs are correct.\n",
    "\n",
    "When you change or update your code, you have to run your function again with all of those inputs and check to make sure all fo the outputs are correct. This would be very time consuming to do every time you changed your code.\n",
    "\n",
    "Would it not be better to automate this process?"
   ]
  },
  {
   "cell_type": "markdown",
   "metadata": {
    "tags": []
   },
   "source": [
    "## Using `pytest` and `ipytest`\n",
    "\n",
    "This is our function:\n",
    "\n",
    "```python\n",
    "def loud_string(s: str) -> str:\n",
    "    \"\"\"Returns the string, 's', as uppercase and with an exclamation point at the end.\"\"\"\n",
    "    loud = f\"{s.upper()}!\"\n",
    "    return loud\n",
    "```\n",
    "\n",
    "This is a function that tests our function:\n",
    "\n",
    "```python\n",
    "def test_load_string(): # The basic test takes no arguments\n",
    "    assert loud_string('hello') == \"HELLO!\"\n",
    "    assert loud_string('') == '!' # Test case for an empty string\n",
    "    assert loud_string('123') == '123!' # Test case for no letters\n",
    "```\n",
    "\n",
    "> `assert` is a statement that does nothing if the expression following it evaluates to `True`. It raises an `AssertionError` if the expression evaluates to `False`"
   ]
  },
  {
   "cell_type": "markdown",
   "metadata": {},
   "source": [
    "To use `ipytest`, first import it into your notebook and run the `autoconfig()`:\n",
    "\n",
    "```python\n",
    "import ipytest\n",
    "ipytest.autoconfig()\n",
    "\n",
    "def loud_string(s: str) -> str:\n",
    "    \"\"\"Returns the string, 's', as uppercase and with an exclamation point at the end.\"\"\"\n",
    "    loud = f\"{s.upper()}!\"\n",
    "    return loud\n",
    "\n",
    "def test_load_string(): # The basic test takes no arguments\n",
    "    assert loud_string('hello') == \"HELLO!\"\n",
    "    assert loud_string('') == '!' # Test case for an empty string\n",
    "    assert loud_string('123') == '123!' # Test case for no letters\n",
    "\n",
    "ipytest.run()\n",
    "```"
   ]
  },
  {
   "cell_type": "code",
   "execution_count": null,
   "metadata": {},
   "outputs": [],
   "source": []
  },
  {
   "cell_type": "markdown",
   "metadata": {},
   "source": [
    "# Some Examples\n",
    "\n",
    "Here is an example for a function that adds numbers in two lists together as though they were a vector:\n",
    "\n",
    "```python\n",
    "def vector_add(v1: list, v2: list) -> list:\n",
    "    \"\"\"\n",
    "    Returns a list representing the vector sum of the lists 'v1' and 'v2'.\n",
    "    Both 'v1' and 'v2' must be the same length and must contain only numbers,\n",
    "    either float or int.\n",
    "    \"\"\"\n",
    "    v_result = []\n",
    "    for idx, item in enumerate(v1):\n",
    "        new_item = item + v2[idx]\n",
    "        v_result.append(new_item)\n",
    "    return v_result\n",
    "\n",
    "\n",
    "def test_vector_add():\n",
    "    assert vector_add([1, 2, 3], [1, 1, 1]) == [2, 3, 4]\n",
    "    assert vector_add([2.3, 4.5, 6.0], [1.2, 2.1, 3.2]) == [3.5, 6.6, 9.2]\n",
    "    assert vector_add([], []) == [] # Test the empty lists\n",
    "    \n",
    "ipytest.run()\n",
    "```"
   ]
  },
  {
   "cell_type": "code",
   "execution_count": null,
   "metadata": {},
   "outputs": [],
   "source": []
  },
  {
   "cell_type": "markdown",
   "metadata": {
    "tags": []
   },
   "source": [
    "# A note on types, type hints, and doc strings\n",
    "\n",
    "```python\n",
    "def loud_string(s: str) -> str:\n",
    "    \"\"\"Returns the string, 's', as uppercase and with an exclamation point at the end.\"\"\"\n",
    "    loud = f\"{s.upper()}!\"\n",
    "    return loud\n",
    "\n",
    "help(loud_string)\n",
    "```\n",
    "\n",
    "Python does not _need_ you to describe the type of your parameters and your output type. Python also does not require you to write a doc string. You can write the same function like this:\n",
    "\n",
    "```python\n",
    "def louder(x):\n",
    "    loud = f\"{s.upper()}!\"\n",
    "    return loud\n",
    "```\n",
    "\n",
    "However, try calling `help(louder)`. \n",
    "\n",
    "## Types vs type hints\n",
    "\n",
    "When we declare the parameter and output types in our function _signature_ it is not like other \"statically typed\" languages (e.g. VBA, C#, C++, etc.) that _require_ you to declare the types of your variables.\n",
    "\n",
    "Python is a \"dynamically typed\" language which means you can do this:\n",
    "\n",
    "```python\n",
    "a = \"cat\" # 'a' starts a str type\n",
    "print(a)\n",
    "a = [43.4, 23] # Then we make 'a' a list of float and int\n",
    "print(a) # And there are no problems\n",
    "```\n",
    "\n",
    "...all without declaring the types of variables.\n",
    "\n",
    "### Type hints\n",
    "\n",
    "When we write functions, we can _optionally_ include a \"type hint\", a piece of syntax that gets wrapped up in the function definition which can tell the programmer what kind of data the function expects to get and what it will output.\n",
    "\n",
    "This can make everyone's life a little bit nicer because it means we can use the built-in `help()` function on your function name and get all of the information we need without having to \"Google\" anything.\n",
    "\n",
    "### Wait...If Python does not need a type hint, what if I put the wrong type in there?\n",
    "\n",
    "Nothing happens. At least, not in your program. You will just end up confusing the next programmer who goes to read your code (probably \"future you\", who is a real person who you _can_ be kind to)."
   ]
  },
  {
   "cell_type": "code",
   "execution_count": null,
   "metadata": {},
   "outputs": [],
   "source": []
  },
  {
   "cell_type": "markdown",
   "metadata": {
    "tags": []
   },
   "source": [
    "# Important \"rules\" to remember\n",
    "\n",
    "### 1. Give your function, and each argument, a properly descriptive name\n",
    "> e.g. `def x(a, b):` <- What on earth is this supposed to do??? <br>\n",
    "Try: `def make_email_address(user_name: str, email_domain: str) -> str:` <- Makes more sense now, yeah?\n",
    "### 2. Always write a doc string\n",
    "> Use triple quotes `\"\"\" \"\"\"` and describe what your function does in plain words. By writing it out for yourself it becomes clear in your mind what you are trying to do. \n",
    "### 3. Keep in mind to only do \"one task per function\"\n",
    "> If you find your self using words like \"and\" or \"then\" in your doc string, you are probably trying to do too much in your function. Break it up into two separate ones that will be easier to test.\n",
    "### 4. Write your tests early and try to think of as many \"edge cases\" as possible\n",
    "> \"Future you\" (who is a real person) will thank you for doing your tests. Seriously."
   ]
  },
  {
   "cell_type": "markdown",
   "metadata": {},
   "source": [
    "## This week's workbook\n",
    "\n",
    "This week you will be writing some simple functions. It will be important to follow all of the steps to writing the function _as good practice_. \n",
    "\n",
    "THe reviewers of your notebooks from here on in will be assessing whether your functions are written following this complete method."
   ]
  },
  {
   "cell_type": "code",
   "execution_count": null,
   "metadata": {},
   "outputs": [],
   "source": []
  }
 ],
 "metadata": {
  "kernelspec": {
   "display_name": "Python 3 (ipykernel)",
   "language": "python",
   "name": "python3"
  },
  "language_info": {
   "codemirror_mode": {
    "name": "ipython",
    "version": 3
   },
   "file_extension": ".py",
   "mimetype": "text/x-python",
   "name": "python",
   "nbconvert_exporter": "python",
   "pygments_lexer": "ipython3",
   "version": "3.8.12"
  }
 },
 "nbformat": 4,
 "nbformat_minor": 4
}
